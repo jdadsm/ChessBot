{
 "cells": [
  {
   "cell_type": "code",
   "execution_count": null,
   "metadata": {},
   "outputs": [],
   "source": [
    "import pandas as pd\n",
    "import numpy as np\n",
    "import os\n",
    "import seaborn as sns\n",
    "import matplotlib.pyplot as  plt\n",
    "import gc\n",
    "from keras.utils import to_categorical\n",
    "from sklearn.model_selection import train_test_split"
   ]
  },
  {
   "cell_type": "code",
   "execution_count": null,
   "metadata": {},
   "outputs": [],
   "source": [
    "def alter_data(X):\n",
    "    X = X.values\n",
    "    turn = X[:,64]\n",
    "    black_to_play = np.where(turn == -1)[0]\n",
    "    # Multiply the values from indexes 0 to 63 by -1 where index 64 is 0\n",
    "    X[black_to_play, :64] *= -1\n",
    "    X = X[:, 0:64].reshape((X.shape[0], 8 , 8))\n",
    "    return X"
   ]
  },
  {
   "cell_type": "code",
   "execution_count": null,
   "metadata": {},
   "outputs": [],
   "source": [
    "def load_n_datasets(n,foldername):\n",
    "    all_datasets = []\n",
    "    filenames = os.listdir(foldername)\n",
    "    for i in range(n):\n",
    "        filename = filenames[i]\n",
    "        if filename.endswith('.csv'):\n",
    "            dataset = pd.read_csv(os.path.join(foldername, filename))\n",
    "            all_datasets.append(dataset)\n",
    "    combined_dataset = pd.concat(all_datasets, ignore_index=True)\n",
    "    \n",
    "    X =  combined_dataset.iloc[:,0:-1]\n",
    "    y =  combined_dataset[\"Evaluation\"].astype(int)\n",
    "    combined_dataset = None\n",
    "    dataset = None\n",
    "    all_datasets = None\n",
    "    return X,y"
   ]
  },
  {
   "cell_type": "code",
   "execution_count": null,
   "metadata": {},
   "outputs": [],
   "source": [
    "def bit_map(X):\n",
    "    channels = np.zeros((X.shape[0],8, 8, 12))  # 12 channels for 6 types of pieces for each player\n",
    "    # Generate separate channels for each player\n",
    "    for player in range(2):  # 0 for white pieces, 1 for black pieces\n",
    "        if player ==0:\n",
    "            for piece_type in range(6):  # 6 types of pieces\n",
    "                piece_mask = X == (piece_type + 1)\n",
    "                channels[:, :, :, player * 6 + piece_type] = piece_mask.astype(np.float32)\n",
    "        else:\n",
    "            for piece_type in range(6):  # 6 types of pieces\n",
    "                piece_mask = -1*(X == (-piece_type - 1))\n",
    "                channels[:, :, :, player * 6 + piece_type] = piece_mask.astype(np.float32)\n",
    "    X = None\n",
    "    return channels"
   ]
  },
  {
   "cell_type": "code",
   "execution_count": null,
   "metadata": {},
   "outputs": [],
   "source": [
    "n_datasets = 13\n",
    "X_chess_data,y_chess_data = load_n_datasets(n_datasets,'../classification_data2')\n",
    "\n",
    "#X_chess_data, _, y_chess_data, _ = train_test_split(X_chess_data, y_chess_data, test_size=0.01, random_state=42, stratify=y_chess_data)\n",
    "\n",
    "print(type(X_chess_data))\n",
    "print(X_chess_data.shape)\n",
    "\n",
    "X = alter_data(X_chess_data)\n",
    "X = bit_map(X)"
   ]
  }
 ],
 "metadata": {
  "kernelspec": {
   "display_name": "myenv",
   "language": "python",
   "name": "python3"
  },
  "language_info": {
   "codemirror_mode": {
    "name": "ipython",
    "version": 3
   },
   "file_extension": ".py",
   "mimetype": "text/x-python",
   "name": "python",
   "nbconvert_exporter": "python",
   "pygments_lexer": "ipython3",
   "version": "3.11.5"
  }
 },
 "nbformat": 4,
 "nbformat_minor": 2
}
