{
 "cells": [
  {
   "cell_type": "code",
   "execution_count": null,
   "metadata": {},
   "outputs": [],
   "source": [
    "import pandas as pd\n",
    "import chess\n",
    "import chess.svg\n",
    "import os\n",
    "from IPython.display import SVG\n",
    "import matplotlib.pyplot as plt"
   ]
  },
  {
   "cell_type": "markdown",
   "metadata": {},
   "source": [
    "**Data Visualization**"
   ]
  },
  {
   "cell_type": "code",
   "execution_count": null,
   "metadata": {},
   "outputs": [],
   "source": [
    "def load_dataset(filepath):\n",
    "    chess_data = pd.read_csv(filepath)\n",
    "    #random_data = pd.read_csv('data/random_evals.csv')\n",
    "    #tactic_data = pd.read_csv('data/tactic_evals.csv')\n",
    "\n",
    "    print(chess_data.shape)\n",
    "    #print(random_data.shape)\n",
    "    #print(tactic_data.shape)\n",
    "\n",
    "    X_chess_data =  chess_data.iloc[:,0:-1]\n",
    "    y_chess_data =  chess_data[\"Evaluation\"]\n",
    "    \n",
    "    return X_chess_data,y_chess_data"
   ]
  },
  {
   "cell_type": "code",
   "execution_count": null,
   "metadata": {},
   "outputs": [],
   "source": [
    "X_chess_data,y_chess_data = load_dataset(\"split_files/split1.csv\")\n",
    "n = 1\n",
    "X_head = X_chess_data.head(n)\n",
    "y_head = y_chess_data.head(n)\n",
    "#print(X_head)\n",
    "#print(y_head)\n",
    "for i in range(n):\n",
    "    print(\"\\nEvaluation:\",float(y_head[i])/100)\n",
    "    board = chess.Board(fen=X_head[\"FEN\"][i])\n",
    "    svg_board = chess.svg.board(\n",
    "        board=board,\n",
    "        size=350,\n",
    "    )\n",
    "\n",
    "    display(SVG(svg_board))"
   ]
  }
 ],
 "metadata": {
  "kernelspec": {
   "display_name": "myenv",
   "language": "python",
   "name": "python3"
  },
  "language_info": {
   "codemirror_mode": {
    "name": "ipython",
    "version": 3
   },
   "file_extension": ".py",
   "mimetype": "text/x-python",
   "name": "python",
   "nbconvert_exporter": "python",
   "pygments_lexer": "ipython3",
   "version": "3.11.5"
  }
 },
 "nbformat": 4,
 "nbformat_minor": 2
}
