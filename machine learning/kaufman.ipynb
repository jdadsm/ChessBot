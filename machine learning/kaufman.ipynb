{
 "cells": [
  {
   "cell_type": "code",
   "execution_count": 29,
   "metadata": {},
   "outputs": [
    {
     "name": "stderr",
     "output_type": "stream",
     "text": [
      "2024-04-17 21:08:32.610633: I tensorflow/core/platform/cpu_feature_guard.cc:182] This TensorFlow binary is optimized to use available CPU instructions in performance-critical operations.\n",
      "To enable the following instructions: SSE4.1 SSE4.2 AVX AVX2 FMA, in other operations, rebuild TensorFlow with the appropriate compiler flags.\n"
     ]
    }
   ],
   "source": [
    "import pandas as pd\n",
    "import chess\n",
    "from tensorflow.keras.models import load_model\n",
    "import numpy as np\n"
   ]
  },
  {
   "cell_type": "code",
   "execution_count": 30,
   "metadata": {},
   "outputs": [],
   "source": [
    "def castling_rights_to_integer(fen_castling):\n",
    "    rights = 0\n",
    "    if 'K' in fen_castling:\n",
    "        rights |= 0b1000\n",
    "    if 'Q' in fen_castling:\n",
    "        rights |= 0b0100\n",
    "    if 'k' in fen_castling:\n",
    "        rights |= 0b0010\n",
    "    if 'q' in fen_castling:\n",
    "        rights |= 0b0001\n",
    "    return rights\n",
    "\n",
    "def en_passant_to_integer(fen_en_passant):\n",
    "    if fen_en_passant == '-':\n",
    "        return -1\n",
    "    \n",
    "    rn_passant = 0\n",
    "    \n",
    "    if 'a' in fen_en_passant:\n",
    "        rn_passant != 0b0000\n",
    "    elif 'b' in fen_en_passant:\n",
    "        rn_passant |= 0b0001\n",
    "    elif 'c' in fen_en_passant:\n",
    "        rn_passant |= 0b0010\n",
    "    elif 'd' in fen_en_passant:\n",
    "        rn_passant |= 0b0011\n",
    "    elif 'e' in fen_en_passant:\n",
    "        rn_passant |= 0b0100\n",
    "    elif 'f' in fen_en_passant:\n",
    "        rn_passant |= 0b0101\n",
    "    elif 'g' in fen_en_passant:\n",
    "        rn_passant |= 0b0110\n",
    "    elif 'h' in fen_en_passant:\n",
    "        rn_passant |= 0b0111\n",
    "    \n",
    "    if '3' in fen_en_passant:\n",
    "        rn_passant |= 0b1000\n",
    "    elif '6' in fen_en_passant:\n",
    "        rn_passant |= 0b0000\n",
    "        \n",
    "    return rn_passant\n",
    "\n",
    "def fen_to_encoded(fen):\n",
    "    piece_mapping = {\n",
    "    'p': 1, 'P': -1,  # pawn\n",
    "    'n': 2, 'N': -2,  # knight\n",
    "    'b': 3, 'B': -3,  # bishop\n",
    "    'r': 4, 'R': -4,  # rook\n",
    "    'q': 5, 'Q': -5,  # queen\n",
    "    'k': 6, 'K': -6,  # king\n",
    "    '.': 0  # empty square\n",
    "    \n",
    "    }\n",
    "    board_state, turn, castling, en_passant, halfmove_clock, fullmove_number = fen.split()\n",
    "\n",
    "    encoded_board = np.full((8, 8), 0, dtype=int)\n",
    "    rank_index = 0\n",
    "    file_index = 0\n",
    "\n",
    "    for char in board_state:\n",
    "        if char == '/':\n",
    "            rank_index += 1\n",
    "            file_index = 0\n",
    "        elif char.isdigit():\n",
    "            file_index += int(char)\n",
    "        else:\n",
    "            piece_index = piece_mapping[char]\n",
    "            encoded_board[rank_index, file_index] = piece_index\n",
    "            file_index += 1\n",
    "\n",
    "    encoded_board = encoded_board.reshape((1,(encoded_board.shape[0]*encoded_board.shape [1])))\n",
    "    encoded_board = np.append(encoded_board, 1 if turn == \"w\" else -1)\n",
    "    encoded_board = np.append(encoded_board, castling_rights_to_integer(castling))\n",
    "    encoded_board = np.append(encoded_board, en_passant_to_integer(en_passant))\n",
    "    encoded_board = np.append(encoded_board, np.array([halfmove_clock,fullmove_number]))\n",
    "    return encoded_board.astype(int)\n",
    "    "
   ]
  },
  {
   "cell_type": "code",
   "execution_count": 31,
   "metadata": {},
   "outputs": [
    {
     "name": "stderr",
     "output_type": "stream",
     "text": [
      "2024-04-17 21:08:38.934216: I tensorflow/core/common_runtime/process_util.cc:146] Creating new thread pool with default inter op setting: 2. Tune using inter_op_parallelism_threads for best performance.\n"
     ]
    },
    {
     "ename": "TypeError",
     "evalue": "Error when deserializing class 'InputLayer' using config={'batch_shape': [None, 8, 8, 12], 'dtype': 'float32', 'sparse': False, 'name': 'input_layer_4'}.\n\nException encountered: Unrecognized keyword arguments: ['batch_shape']",
     "output_type": "error",
     "traceback": [
      "\u001b[0;31m---------------------------------------------------------------------------\u001b[0m",
      "\u001b[0;31mTypeError\u001b[0m                                 Traceback (most recent call last)",
      "Cell \u001b[0;32mIn[31], line 1\u001b[0m\n\u001b[0;32m----> 1\u001b[0m model \u001b[38;5;241m=\u001b[39m \u001b[43mload_model\u001b[49m\u001b[43m(\u001b[49m\u001b[38;5;124;43m'\u001b[39;49m\u001b[38;5;124;43mmodels/linear_mlp.h5\u001b[39;49m\u001b[38;5;124;43m'\u001b[39;49m\u001b[43m)\u001b[49m\n\u001b[1;32m      3\u001b[0m X_kaufman \u001b[38;5;241m=\u001b[39m pd\u001b[38;5;241m.\u001b[39mread_csv(\u001b[38;5;124m'\u001b[39m\u001b[38;5;124mkaufman.csv\u001b[39m\u001b[38;5;124m'\u001b[39m)\n\u001b[1;32m      5\u001b[0m X_kaufman \u001b[38;5;241m=\u001b[39m fen_to_encoded(X_kaufman)\n",
      "File \u001b[0;32m~/miniconda3/envs/myenv/lib/python3.11/site-packages/keras/saving/saving_api.py:212\u001b[0m, in \u001b[0;36mload_model\u001b[0;34m(filepath, custom_objects, compile, safe_mode, **kwargs)\u001b[0m\n\u001b[1;32m    204\u001b[0m     \u001b[38;5;28;01mreturn\u001b[39;00m saving_lib\u001b[38;5;241m.\u001b[39mload_model(\n\u001b[1;32m    205\u001b[0m         filepath,\n\u001b[1;32m    206\u001b[0m         custom_objects\u001b[38;5;241m=\u001b[39mcustom_objects,\n\u001b[1;32m    207\u001b[0m         \u001b[38;5;28mcompile\u001b[39m\u001b[38;5;241m=\u001b[39m\u001b[38;5;28mcompile\u001b[39m,\n\u001b[1;32m    208\u001b[0m         safe_mode\u001b[38;5;241m=\u001b[39msafe_mode,\n\u001b[1;32m    209\u001b[0m     )\n\u001b[1;32m    211\u001b[0m \u001b[38;5;66;03m# Legacy case.\u001b[39;00m\n\u001b[0;32m--> 212\u001b[0m \u001b[38;5;28;01mreturn\u001b[39;00m \u001b[43mlegacy_sm_saving_lib\u001b[49m\u001b[38;5;241;43m.\u001b[39;49m\u001b[43mload_model\u001b[49m\u001b[43m(\u001b[49m\n\u001b[1;32m    213\u001b[0m \u001b[43m    \u001b[49m\u001b[43mfilepath\u001b[49m\u001b[43m,\u001b[49m\u001b[43m \u001b[49m\u001b[43mcustom_objects\u001b[49m\u001b[38;5;241;43m=\u001b[39;49m\u001b[43mcustom_objects\u001b[49m\u001b[43m,\u001b[49m\u001b[43m \u001b[49m\u001b[38;5;28;43mcompile\u001b[39;49m\u001b[38;5;241;43m=\u001b[39;49m\u001b[38;5;28;43mcompile\u001b[39;49m\u001b[43m,\u001b[49m\u001b[43m \u001b[49m\u001b[38;5;241;43m*\u001b[39;49m\u001b[38;5;241;43m*\u001b[39;49m\u001b[43mkwargs\u001b[49m\n\u001b[1;32m    214\u001b[0m \u001b[43m\u001b[49m\u001b[43m)\u001b[49m\n",
      "File \u001b[0;32m~/miniconda3/envs/myenv/lib/python3.11/site-packages/keras/utils/traceback_utils.py:70\u001b[0m, in \u001b[0;36mfilter_traceback.<locals>.error_handler\u001b[0;34m(*args, **kwargs)\u001b[0m\n\u001b[1;32m     67\u001b[0m     filtered_tb \u001b[38;5;241m=\u001b[39m _process_traceback_frames(e\u001b[38;5;241m.\u001b[39m__traceback__)\n\u001b[1;32m     68\u001b[0m     \u001b[38;5;66;03m# To get the full stack trace, call:\u001b[39;00m\n\u001b[1;32m     69\u001b[0m     \u001b[38;5;66;03m# `tf.debugging.disable_traceback_filtering()`\u001b[39;00m\n\u001b[0;32m---> 70\u001b[0m     \u001b[38;5;28;01mraise\u001b[39;00m e\u001b[38;5;241m.\u001b[39mwith_traceback(filtered_tb) \u001b[38;5;28;01mfrom\u001b[39;00m \u001b[38;5;28;01mNone\u001b[39;00m\n\u001b[1;32m     71\u001b[0m \u001b[38;5;28;01mfinally\u001b[39;00m:\n\u001b[1;32m     72\u001b[0m     \u001b[38;5;28;01mdel\u001b[39;00m filtered_tb\n",
      "File \u001b[0;32m~/miniconda3/envs/myenv/lib/python3.11/site-packages/keras/engine/base_layer.py:870\u001b[0m, in \u001b[0;36mLayer.from_config\u001b[0;34m(cls, config)\u001b[0m\n\u001b[1;32m    868\u001b[0m     \u001b[38;5;28;01mreturn\u001b[39;00m \u001b[38;5;28mcls\u001b[39m(\u001b[38;5;241m*\u001b[39m\u001b[38;5;241m*\u001b[39mconfig)\n\u001b[1;32m    869\u001b[0m \u001b[38;5;28;01mexcept\u001b[39;00m \u001b[38;5;167;01mException\u001b[39;00m \u001b[38;5;28;01mas\u001b[39;00m e:\n\u001b[0;32m--> 870\u001b[0m     \u001b[38;5;28;01mraise\u001b[39;00m \u001b[38;5;167;01mTypeError\u001b[39;00m(\n\u001b[1;32m    871\u001b[0m         \u001b[38;5;124mf\u001b[39m\u001b[38;5;124m\"\u001b[39m\u001b[38;5;124mError when deserializing class \u001b[39m\u001b[38;5;124m'\u001b[39m\u001b[38;5;132;01m{\u001b[39;00m\u001b[38;5;28mcls\u001b[39m\u001b[38;5;241m.\u001b[39m\u001b[38;5;18m__name__\u001b[39m\u001b[38;5;132;01m}\u001b[39;00m\u001b[38;5;124m'\u001b[39m\u001b[38;5;124m using \u001b[39m\u001b[38;5;124m\"\u001b[39m\n\u001b[1;32m    872\u001b[0m         \u001b[38;5;124mf\u001b[39m\u001b[38;5;124m\"\u001b[39m\u001b[38;5;124mconfig=\u001b[39m\u001b[38;5;132;01m{\u001b[39;00mconfig\u001b[38;5;132;01m}\u001b[39;00m\u001b[38;5;124m.\u001b[39m\u001b[38;5;130;01m\\n\u001b[39;00m\u001b[38;5;130;01m\\n\u001b[39;00m\u001b[38;5;124mException encountered: \u001b[39m\u001b[38;5;132;01m{\u001b[39;00me\u001b[38;5;132;01m}\u001b[39;00m\u001b[38;5;124m\"\u001b[39m\n\u001b[1;32m    873\u001b[0m     )\n",
      "\u001b[0;31mTypeError\u001b[0m: Error when deserializing class 'InputLayer' using config={'batch_shape': [None, 8, 8, 12], 'dtype': 'float32', 'sparse': False, 'name': 'input_layer_4'}.\n\nException encountered: Unrecognized keyword arguments: ['batch_shape']"
     ]
    }
   ],
   "source": [
    "model = load_model('models/linear_mlp.h5')\n",
    "\n",
    "X_kaufman = pd.read_csv('kaufman.csv')\n",
    "\n",
    "X_kaufman = fen_to_encoded(X_kaufman)"
   ]
  },
  {
   "cell_type": "code",
   "execution_count": null,
   "metadata": {},
   "outputs": [],
   "source": [
    "predictions = model.predict(X_kaufman)\n",
    "\n",
    "# Step 4: Post-process Predictions (if needed)\n",
    "# Depending on your problem, you may need to convert the predictions to a certain format or interpret the results.\n",
    "\n",
    "# Example: Convert predictions to class labels (assuming it's a classification problem)\n",
    "predicted_labels = predictions.argmax(axis=-1)\n",
    "\n",
    "# You can then use 'predicted_labels' for further analysis or evaluation.\n"
   ]
  },
  {
   "cell_type": "code",
   "execution_count": null,
   "metadata": {},
   "outputs": [],
   "source": [
    "data = pd.read_csv('kaufman.csv')\n",
    "fen = data['FEN']\n",
    "board = chess.Board()\n",
    "for f in fen:\n",
    "    f = f.split(\" \")\n",
    "    b = f[0]\n",
    "    turn = f[1]\n",
    "    \n",
    "    board.set_board_fen(b)\n",
    "    if turn == 'w':\n",
    "        board.turn = chess.WHITE\n",
    "    elif turn == \"b\":\n",
    "        board.turn = chess.BLACK\n",
    "    else:\n",
    "        print(\"error\")\n",
    "    for move in board.legal_moves:\n",
    "        print(move)"
   ]
  }
 ],
 "metadata": {
  "kernelspec": {
   "display_name": "myenv",
   "language": "python",
   "name": "python3"
  },
  "language_info": {
   "codemirror_mode": {
    "name": "ipython",
    "version": 3
   },
   "file_extension": ".py",
   "mimetype": "text/x-python",
   "name": "python",
   "nbconvert_exporter": "python",
   "pygments_lexer": "ipython3",
   "version": "3.11.5"
  }
 },
 "nbformat": 4,
 "nbformat_minor": 2
}
