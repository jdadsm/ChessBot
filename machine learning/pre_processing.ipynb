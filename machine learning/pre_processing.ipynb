{
 "cells": [
  {
   "cell_type": "code",
   "execution_count": null,
   "metadata": {},
   "outputs": [],
   "source": [
    "import pandas as pd\n",
    "import numpy as np\n",
    "import os"
   ]
  },
  {
   "cell_type": "markdown",
   "metadata": {},
   "source": [
    "**Spliting the 13 million lines file in smaller files**"
   ]
  },
  {
   "cell_type": "code",
   "execution_count": null,
   "metadata": {},
   "outputs": [],
   "source": [
    "\n",
    "def split_csv(input_file, output_folder, num_files):\n",
    "    if not os.path.exists(output_folder):\n",
    "        os.makedirs(output_folder)\n",
    "\n",
    "    df = pd.read_csv(input_file)\n",
    "\n",
    "    chunk_size = len(df) // num_files\n",
    "    chunks = [df.iloc[i*chunk_size:(i+1)*chunk_size] for i in range(num_files)]\n",
    "    \n",
    "    for i, chunk in enumerate(chunks):\n",
    "        output_file = os.path.join(output_folder, f'split{i+1}.csv')\n",
    "        chunk.to_csv(output_file, index=False)\n",
    "        print(f'Chunk {i+1} written to {output_file}')"
   ]
  },
  {
   "cell_type": "markdown",
   "metadata": {},
   "source": [
    "**Data pre-processing**\n",
    "\n",
    "**Converting FEN to 1D Integer Array**"
   ]
  },
  {
   "cell_type": "code",
   "execution_count": null,
   "metadata": {},
   "outputs": [],
   "source": [
    "def castling_rights_to_integer(fen_castling):\n",
    "    rights = 0\n",
    "    if 'K' in fen_castling:\n",
    "        rights |= 0b1000\n",
    "    if 'Q' in fen_castling:\n",
    "        rights |= 0b0100\n",
    "    if 'k' in fen_castling:\n",
    "        rights |= 0b0010\n",
    "    if 'q' in fen_castling:\n",
    "        rights |= 0b0001\n",
    "    return rights\n",
    "\n",
    "def en_passant_to_integer(fen_en_passant):\n",
    "    if fen_en_passant == '-':\n",
    "        return -1\n",
    "    \n",
    "    rn_passant = 0\n",
    "    \n",
    "    if 'a' in fen_en_passant:\n",
    "        rn_passant != 0b0000\n",
    "    elif 'b' in fen_en_passant:\n",
    "        rn_passant |= 0b0001\n",
    "    elif 'c' in fen_en_passant:\n",
    "        rn_passant |= 0b0010\n",
    "    elif 'd' in fen_en_passant:\n",
    "        rn_passant |= 0b0011\n",
    "    elif 'e' in fen_en_passant:\n",
    "        rn_passant |= 0b0100\n",
    "    elif 'f' in fen_en_passant:\n",
    "        rn_passant |= 0b0101\n",
    "    elif 'g' in fen_en_passant:\n",
    "        rn_passant |= 0b0110\n",
    "    elif 'h' in fen_en_passant:\n",
    "        rn_passant |= 0b0111\n",
    "    \n",
    "    if '3' in fen_en_passant:\n",
    "        rn_passant |= 0b1000\n",
    "    elif '6' in fen_en_passant:\n",
    "        rn_passant |= 0b0000\n",
    "        \n",
    "    return rn_passant\n",
    "\n",
    "def fen_to_encoded(fen):\n",
    "    piece_mapping = {\n",
    "    'p': 1, 'P': -1,  # pawn\n",
    "    'n': 2, 'N': -2,  # knight\n",
    "    'b': 3, 'B': -3,  # bishop\n",
    "    'r': 4, 'R': -4,  # rook\n",
    "    'q': 5, 'Q': -5,  # queen\n",
    "    'k': 6, 'K': -6,  # king\n",
    "    '.': 0  # empty square\n",
    "    \n",
    "    }\n",
    "    board_state, turn, castling, en_passant, halfmove_clock, fullmove_number = fen.split()\n",
    "\n",
    "    encoded_board = np.full((8, 8), 0, dtype=int)\n",
    "    rank_index = 0\n",
    "    file_index = 0\n",
    "\n",
    "    for char in board_state:\n",
    "        if char == '/':\n",
    "            rank_index += 1\n",
    "            file_index = 0\n",
    "        elif char.isdigit():\n",
    "            file_index += int(char)\n",
    "        else:\n",
    "            piece_index = piece_mapping[char]\n",
    "            encoded_board[rank_index, file_index] = piece_index\n",
    "            file_index += 1\n",
    "\n",
    "    encoded_board = encoded_board.reshape((1,(encoded_board.shape[0]*encoded_board.shape [1])))\n",
    "    encoded_board = np.append(encoded_board, 1 if turn == \"w\" else -1)\n",
    "    encoded_board = np.append(encoded_board, castling_rights_to_integer(castling))\n",
    "    encoded_board = np.append(encoded_board, en_passant_to_integer(en_passant))\n",
    "    encoded_board = np.append(encoded_board, np.array([halfmove_clock,fullmove_number]))\n",
    "    return encoded_board.astype(int)\n",
    "    "
   ]
  },
  {
   "cell_type": "markdown",
   "metadata": {},
   "source": [
    " **Load Dataset**"
   ]
  },
  {
   "cell_type": "code",
   "execution_count": null,
   "metadata": {},
   "outputs": [],
   "source": [
    "def load_dataset(filepath):\n",
    "    chess_data = pd.read_csv(filepath)\n",
    "    #random_data = pd.read_csv('data/random_evals.csv')\n",
    "    #tactic_data = pd.read_csv('data/tactic_evals.csv')\n",
    "\n",
    "    print(chess_data.shape)\n",
    "    #print(random_data.shape)\n",
    "    #print(tactic_data.shape)\n",
    "\n",
    "    X_chess_data = chess_data[\"FEN\"]\n",
    "    y_chess_data = chess_data[\"Evaluation\"]\n",
    "    \n",
    "    return X_chess_data,y_chess_data"
   ]
  },
  {
   "cell_type": "markdown",
   "metadata": {},
   "source": [
    "**Replacing checkmate evaluations but minimum and maximum possible evaluations**"
   ]
  },
  {
   "cell_type": "code",
   "execution_count": null,
   "metadata": {},
   "outputs": [],
   "source": [
    "import re\n",
    "\n",
    "def process_evaluations(y_chess_data):\n",
    "    # Replace elements containing '#-' with '-7658'\n",
    "    y_chess_data = np.where(\"#-\" in y_chess_data, \"-7658\", y_chess_data)\n",
    "\n",
    "    # Replace elements containing '#+' with '7881'\n",
    "    y_chess_data = np.where(\"#+\" in y_chess_data, \"7881\", y_chess_data)\n",
    "\n",
    "    # Remove non-digit characters and convert to integers\n",
    "    y_chess_data = [int(''.join(re.findall(r'-?\\d+', s))) for s in y_chess_data]\n",
    "\n",
    "    return y_chess_data\n"
   ]
  },
  {
   "cell_type": "markdown",
   "metadata": {},
   "source": [
    "**Applying the FEN converting functions**"
   ]
  },
  {
   "cell_type": "code",
   "execution_count": null,
   "metadata": {},
   "outputs": [],
   "source": [
    "\n",
    "\n",
    "def process_row(row):\n",
    "    encoded_data = fen_to_encoded(row)\n",
    "    return pd.Series(encoded_data)\n",
    "\n",
    "\n",
    "def process_FEN(X_chess_data):\n",
    "    return X_chess_data.apply(process_row)\n",
    "\n"
   ]
  },
  {
   "cell_type": "markdown",
   "metadata": {},
   "source": [
    "**Saving the data into a file**"
   ]
  },
  {
   "cell_type": "code",
   "execution_count": null,
   "metadata": {},
   "outputs": [],
   "source": [
    "def save_data_into_file(X_chess_data_processed,y_chess_data_processed,output_path):\n",
    "    x_file = X_chess_data_processed.reset_index(drop=True)\n",
    "    y_file = pd.DataFrame(y_chess_data_processed).reset_index(drop=True)\n",
    "\n",
    "    to_file = pd.concat([x_file, y_file], axis=1, ignore_index=False)\n",
    "\n",
    "    column_names = ['FEN' for i in range(69)] + ['Evaluation']\n",
    "\n",
    "    to_file.columns = column_names\n",
    "\n",
    "    to_file.to_csv(output_path, index=False, header=True)"
   ]
  },
  {
   "cell_type": "code",
   "execution_count": null,
   "metadata": {},
   "outputs": [],
   "source": [
    "import gc\n",
    "    \n",
    "input_file = 'data/chessData.csv'\n",
    "output_folder_for_split_files = 'split_files'\n",
    "output_folder = 'processed_data'\n",
    "num_split_files = 13\n",
    "\n",
    "split_csv(input_file, output_folder_for_split_files, num_split_files)\n",
    "\n",
    "for filename in os.listdir(output_folder_for_split_files):\n",
    "    gc.collect()\n",
    "\n",
    "    filepath = os.path.join(output_folder_for_split_files,filename)\n",
    "    \n",
    "    X_chess_data,y_chess_data = load_dataset(filepath)\n",
    "    \n",
    "    X_chess_data_processed = process_FEN(X_chess_data)\n",
    "    y_chess_data_processed = process_evaluations(y_chess_data)\n",
    "    \n",
    "    output_path = os.path.join(output_folder,filename)\n",
    "    save_data_into_file(X_chess_data_processed,y_chess_data_processed,output_path)\n",
    "    "
   ]
  }
 ],
 "metadata": {
  "kernelspec": {
   "display_name": "myenv",
   "language": "python",
   "name": "python3"
  },
  "language_info": {
   "codemirror_mode": {
    "name": "ipython",
    "version": 3
   },
   "file_extension": ".py",
   "mimetype": "text/x-python",
   "name": "python",
   "nbconvert_exporter": "python",
   "pygments_lexer": "ipython3",
   "version": "3.11.5"
  }
 },
 "nbformat": 4,
 "nbformat_minor": 2
}
