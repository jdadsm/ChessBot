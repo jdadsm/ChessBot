{
 "cells": [
  {
   "cell_type": "code",
   "execution_count": 1,
   "metadata": {},
   "outputs": [],
   "source": [
    "def convert_double_to_label(cp):\n",
    "    label = 0\n",
    "    \n",
    "    if cp < -750:\n",
    "        label = 0\n",
    "    elif cp < -650:\n",
    "        label = 1\n",
    "    elif cp < -550:\n",
    "        label = 2\n",
    "    elif cp < -450:\n",
    "        label = 3\n",
    "    elif cp < -350:\n",
    "        label = 4\n",
    "    elif cp < -250:\n",
    "        label = 5 \n",
    "    elif cp < -150:\n",
    "        label = 6\n",
    "    elif cp < 150:\n",
    "        label = 7\n",
    "    elif cp < 250:\n",
    "        label = 8\n",
    "    elif cp < 350:\n",
    "        label = 9\n",
    "    elif cp < 450:\n",
    "        label = 10\n",
    "    elif cp < 550:\n",
    "        label = 11\n",
    "    elif cp < 650:\n",
    "        label = 12\n",
    "    elif cp < 750:\n",
    "        label = 13\n",
    "    else:\n",
    "        label = 14\n",
    "    return label"
   ]
  },
  {
   "cell_type": "code",
   "execution_count": 2,
   "metadata": {},
   "outputs": [],
   "source": [
    "import pandas as pd\n",
    "\n",
    "def load_dataset(filepath):\n",
    "    chess_data = pd.read_csv(filepath)\n",
    "    #random_data = pd.read_csv('data/random_evals.csv')\n",
    "    #tactic_data = pd.read_csv('data/tactic_evals.csv')\n",
    "\n",
    "    print(chess_data.shape)\n",
    "    #print(random_data.shape)\n",
    "    #print(tactic_data.shape)\n",
    "\n",
    "    X_chess_data =  chess_data.iloc[:,0:-1]\n",
    "    y_chess_data =  chess_data[\"Evaluation\"]\n",
    "    \n",
    "    return X_chess_data,y_chess_data"
   ]
  },
  {
   "cell_type": "code",
   "execution_count": 3,
   "metadata": {},
   "outputs": [],
   "source": [
    "def save_data_into_file(X_chess_data_processed,y_chess_data_processed,output_path):\n",
    "    \n",
    "\n",
    "    to_file = pd.concat([X_chess_data_processed, y_chess_data_processed], axis=1, ignore_index=False)\n",
    "\n",
    "    column_names = ['FEN' for i in range(69)] + ['Evaluation']\n",
    "\n",
    "    to_file.columns = column_names\n",
    "\n",
    "    to_file.to_csv(output_path, index=False, header=True)"
   ]
  },
  {
   "cell_type": "code",
   "execution_count": 4,
   "metadata": {},
   "outputs": [
    {
     "name": "stdout",
     "output_type": "stream",
     "text": [
      "(996771, 70)\n",
      "(996771, 70)\n",
      "(996771, 70)\n",
      "(996771, 70)\n",
      "(996771, 70)\n",
      "(996771, 70)\n",
      "(996771, 70)\n",
      "(996771, 70)\n",
      "(996771, 70)\n",
      "(996771, 70)\n",
      "(996771, 70)\n",
      "(996771, 70)\n",
      "(996771, 70)\n"
     ]
    }
   ],
   "source": [
    "import gc\n",
    "import os\n",
    "    \n",
    "input_folder = 'processed_data'\n",
    "output_folder = 'classification_data2'\n",
    "\n",
    "for filename in os.listdir(input_folder):\n",
    "    gc.collect()\n",
    "\n",
    "    filepath = os.path.join(input_folder,filename)\n",
    "    \n",
    "    X_chess_data,y_chess_data = load_dataset(filepath)\n",
    "    \n",
    "    for i in range(len(y_chess_data)):\n",
    "        y_chess_data[i] = convert_double_to_label(y_chess_data[i])\n",
    "    \n",
    "    output_path = os.path.join(output_folder,filename)\n",
    "    save_data_into_file(X_chess_data,y_chess_data,output_path)"
   ]
  }
 ],
 "metadata": {
  "kernelspec": {
   "display_name": "myenv",
   "language": "python",
   "name": "python3"
  },
  "language_info": {
   "codemirror_mode": {
    "name": "ipython",
    "version": 3
   },
   "file_extension": ".py",
   "mimetype": "text/x-python",
   "name": "python",
   "nbconvert_exporter": "python",
   "pygments_lexer": "ipython3",
   "version": "3.11.5"
  }
 },
 "nbformat": 4,
 "nbformat_minor": 2
}
